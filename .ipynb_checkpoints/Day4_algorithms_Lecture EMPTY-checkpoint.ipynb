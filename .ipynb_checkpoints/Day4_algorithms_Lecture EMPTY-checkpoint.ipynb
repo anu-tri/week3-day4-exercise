{
 "cells": [
  {
   "cell_type": "markdown",
   "metadata": {},
   "source": [
    "# Algorithms, Binary Search & Linked Lists"
   ]
  },
  {
   "cell_type": "markdown",
   "metadata": {},
   "source": [
    "## Tasks Today:\n",
    " \n",
    "1) <b>In-Place Algorithms</b> <br>\n",
    " &nbsp;&nbsp;&nbsp;&nbsp; a) Syntax <br>\n",
    " &nbsp;&nbsp;&nbsp;&nbsp; a) Out of Place Algorithm <br>\n",
    " &nbsp;&nbsp;&nbsp;&nbsp; b) In-Class Exercise #1 <br>\n",
    "2) <b>Two Pointers</b> <br>\n",
    "3) <b>Linked Lists</b> <br>\n",
    "4) <b>Merge Sort</b> <br>\n",
    " &nbsp;&nbsp;&nbsp;&nbsp; a) Video on Algorithms <br>\n",
    " &nbsp;&nbsp;&nbsp;&nbsp; b) How it Works <br>\n",
    "5) <b>Exercises</b> <br>\n",
    " &nbsp;&nbsp;&nbsp;&nbsp; a) Exercise #1 - Reverse a List in Place Using an In-Place Algorithm <br>\n",
    " &nbsp;&nbsp;&nbsp;&nbsp; b) Exercise #2 - Find Distinct Words <br>\n",
    " &nbsp;&nbsp;&nbsp;&nbsp; c) Exercise #3 - Write a program to implement a Linear Search Algorithm. <br>"
   ]
  },
  {
   "cell_type": "markdown",
   "metadata": {},
   "source": [
    "## In-Place Algorithms"
   ]
  },
  {
   "cell_type": "markdown",
   "metadata": {},
   "source": [
    "#### In-place"
   ]
  },
  {
   "cell_type": "code",
   "execution_count": 1,
   "metadata": {},
   "outputs": [
    {
     "name": "stdout",
     "output_type": "stream",
     "text": [
      "[4, 23, 76, 87, 234]\n"
     ]
    }
   ],
   "source": [
    "my_list = [76,234,87,23,4]\n",
    "my_list.sort()\n",
    "print(my_list)"
   ]
  },
  {
   "cell_type": "code",
   "execution_count": 32,
   "metadata": {},
   "outputs": [
    {
     "name": "stdout",
     "output_type": "stream",
     "text": [
      "[30, 20, 10]\n"
     ]
    }
   ],
   "source": [
    "def swap(alist, x, y, z):\n",
    "    alist[x], alist[y], alist[z] = alist[z], alist[y], alist[x]\n",
    "    #or\n",
    "#     alist[x] = alist[y]\n",
    "#     alist[y] = alist[y]\n",
    "#     alist[z] = alist[x]\n",
    "    \n",
    "    return alist\n",
    "\n",
    "print(swap([10,20,30], 0,1,2))"
   ]
  },
  {
   "cell_type": "markdown",
   "metadata": {},
   "source": [
    "#### Out of Place Algorithm"
   ]
  },
  {
   "cell_type": "code",
   "execution_count": 2,
   "metadata": {},
   "outputs": [
    {
     "name": "stdout",
     "output_type": "stream",
     "text": [
      "[4, 23, 76, 87, 234]\n"
     ]
    }
   ],
   "source": [
    "my_list2 = sorted(my_list)\n",
    "print(my_list2)\n",
    "\n",
    "#makes a copy,takes an extra memory space"
   ]
  },
  {
   "cell_type": "code",
   "execution_count": null,
   "metadata": {},
   "outputs": [],
   "source": [
    "my_list = [10,4,20]\n",
    "my_list_rev = my_list[::-1]\n",
    "print(my_list_rev)"
   ]
  },
  {
   "cell_type": "code",
   "execution_count": null,
   "metadata": {},
   "outputs": [],
   "source": [
    "def swap(alist, x, y, z):\n",
    "    new_list = []\n",
    "    "
   ]
  },
  {
   "cell_type": "markdown",
   "metadata": {},
   "source": [
    "#### In-Class Exercise #1 <br>\n",
    "<p>Write a function that takes in four arguments (list, index1, index2, index3), and swaps those three positions in the list passed in.</p>"
   ]
  },
  {
   "cell_type": "code",
   "execution_count": 11,
   "metadata": {},
   "outputs": [
    {
     "name": "stdout",
     "output_type": "stream",
     "text": [
      "[3, 4, 10, 8, 4, 2, 6]\n"
     ]
    }
   ],
   "source": [
    "l_1 = [10, 4, 3, 8, 4, 2, 6]\n",
    "\n",
    "#swapping 0th and 2nd index\n",
    "def sort_list(alist, index1, index2, index3):\n",
    "    temp=alist[index1]\n",
    "    alist[index1] = alist[index3]\n",
    "    alist[index2] = alist[index2]\n",
    "    alist[index3] = temp\n",
    "    print(alist)\n",
    "    \n",
    "sort_list([10, 4, 3, 8, 4, 2, 6], 0,1,2)\n",
    "\n"
   ]
  },
  {
   "cell_type": "markdown",
   "metadata": {},
   "source": [
    "## Two Pointers"
   ]
  },
  {
   "cell_type": "markdown",
   "metadata": {},
   "source": [
    "#### Syntax"
   ]
  },
  {
   "cell_type": "code",
   "execution_count": null,
   "metadata": {},
   "outputs": [],
   "source": [
    "def two_pointers(alist):\n",
    "    left = 0\n",
    "    right = len(alist) - 1\n",
    "    \n",
    "    while left >= right:\n",
    "        alist[left], alist[right] = alist[right], alist[left]\n",
    "        left += 1\n",
    "        right -= 1\n",
    "    return alist\n",
    "\n",
    "two_pointers()"
   ]
  },
  {
   "cell_type": "markdown",
   "metadata": {},
   "source": [
    "#### Video of Algorithms <br>\n",
    "<p>Watch the video about algorithms.</p>\n",
    "\n",
    "https://www.youtube.com/watch?v=Q9HjeFD62Uk\n",
    "\n",
    "https://www.youtube.com/watch?v=kPRA0W1kECg\n",
    "\n",
    "https://www.youtube.com/watch?v=ZZuD6iUe3Pc"
   ]
  },
  {
   "cell_type": "markdown",
   "metadata": {},
   "source": [
    "# Sorting Algorithms"
   ]
  },
  {
   "cell_type": "markdown",
   "metadata": {},
   "source": [
    "#### Bubble Sort\n",
    "\n",
    "Worst Case: O(n^2) Time - O(1) Space"
   ]
  },
  {
   "cell_type": "code",
   "execution_count": 14,
   "metadata": {},
   "outputs": [
    {
     "data": {
      "text/plain": [
       "[11, 27, 34, 44, 55, 66, 88, 100]"
      ]
     },
     "execution_count": 14,
     "metadata": {},
     "output_type": "execute_result"
    }
   ],
   "source": [
    "#Bubble Sort\n",
    "#O(n)\n",
    "#Worst-case: O(n^2)\n",
    "\n",
    "\n",
    "def swap(i, j, array):\n",
    "    array[i], array[j] = array[j], array[i]\n",
    "    \n",
    "def bubble_sort(array):\n",
    "    is_sorted = False\n",
    "    while not is_sorted:\n",
    "        is_sorted = True\n",
    "        for num in range(len(array) - 1):\n",
    "            if array[num] > array[num+1]:\n",
    "                swap(num, num+1, array)\n",
    "                is_sorted = False\n",
    "    return array\n",
    "\n",
    "bubble_sort([22,88,55,44,11,100,34,66])\n",
    "    "
   ]
  },
  {
   "cell_type": "markdown",
   "metadata": {},
   "source": [
    "##### Insertion Sort\n",
    "\n",
    "Worst Case: O(n^2) time - O(1)space"
   ]
  },
  {
   "cell_type": "code",
   "execution_count": 16,
   "metadata": {},
   "outputs": [
    {
     "data": {
      "text/plain": [
       "[11, 22, 34, 44, 55, 66, 88, 100]"
      ]
     },
     "execution_count": 16,
     "metadata": {},
     "output_type": "execute_result"
    }
   ],
   "source": [
    "#Insertion Sort\n",
    "#Worst Case: O(n^2) \n",
    "#time - O(1)space\n",
    "\n",
    "def swap(i, j, array):\n",
    "    array[i], array[j] = array[j], array[i]\n",
    "    \n",
    "def insertion_sort(array):\n",
    "    for i in range(1, len(array)):\n",
    "        j = i\n",
    "        while j>0 and array[j]<array[j-1]:\n",
    "            swap(j, j-1, array)\n",
    "            j -= 1\n",
    "    return array\n",
    "\n",
    "insertion_sort([22,88,55,44,11,100,34,66])"
   ]
  },
  {
   "cell_type": "markdown",
   "metadata": {},
   "source": [
    "## Merge Sort"
   ]
  },
  {
   "cell_type": "markdown",
   "metadata": {},
   "source": [
    "#### How it Works"
   ]
  },
  {
   "cell_type": "code",
   "execution_count": null,
   "metadata": {},
   "outputs": [],
   "source": [
    "#Step 1: Split everything into groups\n",
    "#Step 2: From left to roight merge the two groups together\n",
    "#Step 3: While merging, place each item in the correct position with in the group\n",
    "#Step 4: Continue steps 3-4 until one group is left\n",
    "\n",
    "def merge_sort(aList):\n",
    "    print(\"splitting\", aList)\n",
    "    if(len(aList) <= 1)\n",
    "        return aList\n",
    "    \n",
    "    #Step 1\n",
    "    mid = len(aList)//2\n",
    "    leftHalf = aList[:mid]\n",
    "    rightHalf = aList[mid:]\n",
    "    \n",
    "    #recursively call mergesortto perform the splits if needed\n",
    "    merge_sort(lefthalf)\n",
    "    merge_sort(rightHalf)\n",
    "    \n",
    "    #index pointers for our list\n",
    "    i = 0 #left half\n",
    "    j = 0 #right half\n",
    "    k = 0 #in the main array\n",
    "    \n",
    "    #Step 2: omparing two halfs\n",
    "    while i<len(leftHalf) and j<len(rightHalf):\n",
    "        if leftHalf[i] < rightHalf[j]:\n",
    "            aList[k] = leftHalf\n",
    "    \n",
    "    \n",
    "    \n",
    "    \n",
    "    \n",
    "    \n",
    "    \n",
    "    \n",
    "    "
   ]
  },
  {
   "cell_type": "markdown",
   "metadata": {},
   "source": [
    "# Binary Search\n",
    "\n",
    "The Binary Search algorithm works by finding the number in the middle of a given array and comparing it to the target. Given that the array is sorted\n",
    "\n",
    "* The worst case run time for this algorithm is `O(log(n))`"
   ]
  },
  {
   "cell_type": "code",
   "execution_count": null,
   "metadata": {},
   "outputs": [],
   "source": []
  },
  {
   "cell_type": "markdown",
   "metadata": {},
   "source": [
    "# Exercises"
   ]
  },
  {
   "cell_type": "markdown",
   "metadata": {},
   "source": [
    "### Exercise #1 <br>\n",
    "<p>Reverse the list below in-place using an in-place algorithm.<br>For extra credit: Reverse the strings at the same time.</p>"
   ]
  },
  {
   "cell_type": "code",
   "execution_count": 30,
   "metadata": {},
   "outputs": [
    {
     "data": {
      "text/plain": [
       "['.', 'ecnetnes', 'a', 'si', 'siht']"
      ]
     },
     "execution_count": 30,
     "metadata": {},
     "output_type": "execute_result"
    }
   ],
   "source": [
    "words = ['this' , 'is', 'a', 'sentence', '.']\n",
    "\n",
    "def reverse_words(words):\n",
    "\n",
    "    #left and right pointers\n",
    "    left = 0\n",
    "    right = len(words)-1\n",
    "\n",
    "    while left<right:\n",
    "        temp = words[left][::-1]             #[::-1] is used for reversing string at the same time\n",
    "        words[left] = words[right][::-1]\n",
    "        words[right] = temp\n",
    "\n",
    "        left += 1\n",
    "        right -= 1\n",
    "\n",
    "    return words\n",
    "    print(words)\n",
    "                   \n",
    "reverse_words(words)\n"
   ]
  },
  {
   "cell_type": "markdown",
   "metadata": {},
   "source": [
    "### Exercise #2 <br>\n",
    "<p>Create a function that counts how many distinct words are in the string below, then outputs a dictionary with the words as the key and the value as the amount of times that word appears in the string.<br>Should output:<br>{'a': 5,<br>\n",
    " 'abstract': 1,<br>\n",
    " 'an': 3,<br>\n",
    " 'array': 2, ... etc...</p>"
   ]
  },
  {
   "cell_type": "code",
   "execution_count": 66,
   "metadata": {},
   "outputs": [
    {
     "name": "stdout",
     "output_type": "stream",
     "text": [
      "Dictionary :\n",
      "\n",
      "{'In': 1, 'computing,': 1, 'a': 4, 'hash': 4, 'table': 2, 'map': 2, 'is': 1, 'data': 2, 'structure': 2, 'which': 2, 'implements': 1, 'an': 3, 'associative': 1, 'array': 2, 'abstract': 1, 'type,': 1, 'that': 1, 'can': 2, 'keys': 1, 'to': 2, 'values.': 1, 'A': 1, 'uses': 1, 'function': 1, 'compute': 1, 'index': 1, 'into': 1, 'ofbuckets': 1, 'or': 1, 'slots': 1, 'from': 1, 'the': 1, 'desired': 1, 'value': 1, 'be': 1, 'found': 1}\n",
      "==============================================================================================================================\n",
      "\n",
      "KEY VALUE PAIRS: \n",
      "\n",
      "In : 1,\n",
      "\n",
      "computing, : 1,\n",
      "\n",
      "a : 4,\n",
      "\n",
      "hash : 4,\n",
      "\n",
      "table : 2,\n",
      "\n",
      "map : 2,\n",
      "\n",
      "is : 1,\n",
      "\n",
      "data : 2,\n",
      "\n",
      "structure : 2,\n",
      "\n",
      "which : 2,\n",
      "\n",
      "implements : 1,\n",
      "\n",
      "an : 3,\n",
      "\n",
      "associative : 1,\n",
      "\n",
      "array : 2,\n",
      "\n",
      "abstract : 1,\n",
      "\n",
      "type, : 1,\n",
      "\n",
      "that : 1,\n",
      "\n",
      "can : 2,\n",
      "\n",
      "keys : 1,\n",
      "\n",
      "to : 2,\n",
      "\n",
      "values. : 1,\n",
      "\n",
      "A : 1,\n",
      "\n",
      "uses : 1,\n",
      "\n",
      "function : 1,\n",
      "\n",
      "compute : 1,\n",
      "\n",
      "index : 1,\n",
      "\n",
      "into : 1,\n",
      "\n",
      "ofbuckets : 1,\n",
      "\n",
      "or : 1,\n",
      "\n",
      "slots : 1,\n",
      "\n",
      "from : 1,\n",
      "\n",
      "the : 1,\n",
      "\n",
      "desired : 1,\n",
      "\n",
      "value : 1,\n",
      "\n",
      "be : 1,\n",
      "\n",
      "found : 1,\n"
     ]
    }
   ],
   "source": [
    "a_text = 'In computing, a hash table hash map is a data structure which implements an associative array abstract data type, a structure that can map keys to values. A hash table uses a hash function to compute an index into an array ofbuckets or slots from which the desired value can be found'\n",
    "\n",
    "def count_words(a_text):\n",
    "    my_dict = {}\n",
    "    words_list = a_text.split()\n",
    "    \n",
    "    for word in words_list:\n",
    "        if word in my_dict:\n",
    "            my_dict[word] += 1\n",
    "        else:\n",
    "            my_dict[word] = 1\n",
    "            \n",
    "    print(\"Dictionary :\")        \n",
    "    print(f\"\\n{my_dict}\")\n",
    "    print(\"==========================================\" * 3)\n",
    "    print(\"\\nKEY VALUE PAIRS: \")\n",
    "    for key,value in my_dict.items():\n",
    "        print(f\"\\n{key} : {value},\")\n",
    "\n",
    "count_words(a_text)\n",
    "\n",
    "\n"
   ]
  },
  {
   "cell_type": "markdown",
   "metadata": {},
   "source": [
    "## Exercise #3\n",
    "\n",
    "Write a program to implement a Linear Search Algorithm. Also in a comment, write the Time Complexity of the following algorithm.\n",
    "\n",
    "#### Hint: Linear Searching will require searching a list for a given number. "
   ]
  },
  {
   "cell_type": "code",
   "execution_count": 77,
   "metadata": {},
   "outputs": [
    {
     "name": "stdout",
     "output_type": "stream",
     "text": [
      "List: [10, 20, 30, 40, 50, 60, 70, 80, 90, 100]\n",
      "Value 60 found at index 5\n"
     ]
    }
   ],
   "source": [
    "#TIme complexity: \n",
    "#Best Case: O(1)\n",
    "#Worst Case: O(n) , n is the length of the list\n",
    "\n",
    "def linearsearch(alist, value):\n",
    "    for i in range(len(alist)):\n",
    "        if alist[i] == value:\n",
    "           return i\n",
    "    return -1\n",
    "  \n",
    "alist = [10, 20, 30, 40, 50, 60, 70, 80, 90, 100]\n",
    "value = 60\n",
    "print(f\"List: {alist}\")\n",
    "\n",
    "#Driver Code\n",
    "index = linearsearch(alist,value)    \n",
    "if (index == -1):\n",
    "    print(f\"Value {value} not found in the list\")\n",
    "else:\n",
    "    print(f\"Value {value} found at index {index}\")"
   ]
  },
  {
   "cell_type": "code",
   "execution_count": null,
   "metadata": {},
   "outputs": [],
   "source": []
  }
 ],
 "metadata": {
  "kernelspec": {
   "display_name": "Python 3",
   "language": "python",
   "name": "python3"
  },
  "language_info": {
   "codemirror_mode": {
    "name": "ipython",
    "version": 3
   },
   "file_extension": ".py",
   "mimetype": "text/x-python",
   "name": "python",
   "nbconvert_exporter": "python",
   "pygments_lexer": "ipython3",
   "version": "3.8.8"
  }
 },
 "nbformat": 4,
 "nbformat_minor": 2
}
